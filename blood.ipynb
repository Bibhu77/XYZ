{
 "cells": [
  {
   "cell_type": "code",
   "execution_count": 1,
   "id": "32bec20e",
   "metadata": {},
   "outputs": [
    {
     "name": "stdout",
     "output_type": "stream",
     "text": [
      "   id              name  latitude  longitude blood_type  stock\n",
      "0   1  General Hospital    40.735     -73.93         O-      5\n",
      "1   2  General Hospital    40.735     -73.93         A+      3\n",
      "2   3       City Clinic    34.150    -118.14         O-      3\n"
     ]
    }
   ],
   "source": [
    "import pandas as pd\n",
    "\n",
    "# Load datasets\n",
    "hospitals = pd.read_csv('hospitals.csv')\n",
    "donors = pd.read_csv('donors.csv')\n",
    "recipients = pd.read_csv('recipients.csv')\n",
    "\n",
    "# Example: Filter hospitals with stock > 0\n",
    "available_hospitals = hospitals[hospitals['stock'] > 0]\n",
    "print(available_hospitals)"
   ]
  },
  {
   "cell_type": "code",
   "execution_count": null,
   "id": "aa4de349",
   "metadata": {},
   "outputs": [],
   "source": []
  },
  {
   "cell_type": "code",
   "execution_count": null,
   "id": "a7f373c4",
   "metadata": {},
   "outputs": [],
   "source": []
  },
  {
   "cell_type": "code",
   "execution_count": null,
   "id": "6397d148",
   "metadata": {},
   "outputs": [],
   "source": []
  }
 ],
 "metadata": {
  "kernelspec": {
   "display_name": "base",
   "language": "python",
   "name": "python3"
  },
  "language_info": {
   "name": "python",
   "version": "3.12.7"
  }
 },
 "nbformat": 4,
 "nbformat_minor": 5
}
